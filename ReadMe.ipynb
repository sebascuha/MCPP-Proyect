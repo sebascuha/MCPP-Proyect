{
 "cells": [
  {
   "cell_type": "markdown",
   "id": "06521a2c",
   "metadata": {},
   "source": [
    "# Disminución de la violencia como mecanismo para fomentar el crecimiento economico en los departamentos.\n",
    "\n",
    "#### Analisis de la relación entre el desplazamiento forzado y la violencia con el ingreso per capita departamental entre los periodos de 2005 - 2019.\n",
    "\n",
    "Sebastián Cuéllar Harker<br>\n",
    "24-Mayo-2022<br>\n"
   ]
  },
  {
   "cell_type": "markdown",
   "id": "f2be924f",
   "metadata": {},
   "source": [
    "![image](imagenes/image.png)"
   ]
  },
  {
   "cell_type": "markdown",
   "id": "b90e9d2e",
   "metadata": {},
   "source": [
    "## Descripcion y Motivación\n",
    "\n",
    "Colombia se ha caracterizado por hechos de violencia a lo largo de sus territorios ocacionando multiples cantidades de víctimas que en muchas ocaciones se vieron obligadas a realizar desplazamientos forzados de sus tierras y hogares. En Colombia se han realizado varios procesos de paz con la guerrilla y grupos paramilitares para finalizar varios años de conflicto armado, los más recioentes y masivos han sido la desmovilizacion de las autodefensad unidas de colombia (AUC) en el proceso de paz que finalizó con su desmovilizacion  entre 2004 y 2006, y los acuerdos de paz con la guerrilla de las FARC-EP en el año 2016; hechos que impactaron sustancialmente las dinámicas de la violencia en el país.<br>\n",
    "<br>\n",
    "Para este proyecto utilicé varias bases de datos provenientes de distintas fuentes, todas oficiales como la Unidad de victgimas del conflicto, el DANE, el centro de memoria histórico de Colombia y el banco mundial. Las bases que utilicé fueron las siguientes:\n",
    "* PIB per capita departamental anual (DANE)\n",
    "* Victimas de desplazamiento forzado anualizado (Unidad para la atencion y reparacion a las victimas)\n",
    "* Casos ataques belicos (Centro de memoria histórica de Colombia - conflicto en cifras)\n",
    "* Casos masacres (Centro de memoria histórica de Colombia - conflicto en cifras)\n",
    "* Casos ataques belicos (Centro de memoria histórica de Colombia - conflicto en cifras)\n",
    "* Deflactor del  PIB anual (Banco Mundial)<br>\n",
    "\n",
    "\n",
    "El objetivo de este proyecto es entneder la relación de la violencia y los desplazamientos forzados con el ingreso per capita departamental. Esto debido a que la naturaleza del conflinco en los distintos territorios es diferente, muchas veces surge como protesta social hacia un proyecto de Estado distinto al vigente y en otros casos es promovido por intereses economicos para propositos relativamente legales e ilegales."
   ]
  },
  {
   "cell_type": "markdown",
   "id": "450a3311",
   "metadata": {},
   "source": [
    "## Métodos Utilizados"
   ]
  },
  {
   "cell_type": "markdown",
   "id": "082cb6c1",
   "metadata": {},
   "source": [
    "1. Webstrapping para descargar bases de datos\n",
    "* Utilizando Selenium para crea un bot que permita descargar las bases de datos.\n",
    "* Utilizando el driver de Chrome.\n",
    "2. Manejo, limpieza y union de distintas bases de datos\n",
    "* Mediante `Pandas` subí las distintas bases de datos.\n",
    "* Consolidé las 6 distintas bases de datos por medio de:\n",
    "    * Agruparlas a nivel departamental debido a que como provenian de diferentes fuentes algunas estaban desagregadas a nivel municipal y indexadas al año.\n",
    "    * Se necesitava que todas las bases estuvieran en formato 'larg'(long) para formar el panel de datos.\n",
    "* Usando `merge` uní las diferentes bases de datos para consolidar un Panel de datos que contuviera toda la informacion relevente de confrontaciones bélicas, atentados por explosivos, masacres, desplazamientos forzados y ingreso per capita deflactado.\n",
    "3. Visualizacion de datos utilizanzo `seaborn`,`matplotlib`,`PowerBI` y `R`\n",
    "\n",
    "\n"
   ]
  },
  {
   "cell_type": "markdown",
   "id": "a73148bd",
   "metadata": {},
   "source": [
    "## Hallazgos\n",
    "* La violencia ha tendido tendencias a disminutir en el periodo de 2005 a 2019\n",
    "* El PIB per capita tiene corelacion negativa con los tipos de violencia (atentados terroristas, ataques belicos y mesacres) y con el desplazamiento forzado\n",
    "* EL departamento con mayor violencia es Antioquia\n",
    "* No todos los territorios apartados del centro economico tienen problemas de conflicto armado."
   ]
  },
  {
   "cell_type": "markdown",
   "id": "e8fc759e",
   "metadata": {},
   "source": [
    "Aqui algunas visualizaciones de los resultados:"
   ]
  },
  {
   "cell_type": "markdown",
   "id": "75c41c1d",
   "metadata": {},
   "source": [
    "Las cifras muestran que la violencia ha tenido tendencias a la baja entre los años 2005 y 2019"
   ]
  },
  {
   "cell_type": "markdown",
   "id": "6a0ab074",
   "metadata": {},
   "source": [
    "![image](imagenes/hola.png)"
   ]
  },
  {
   "cell_type": "raw",
   "id": "0003e234",
   "metadata": {},
   "source": [
    "El departamento donde se han ocaiconado el mayor número de victimas por desplazamiento forzado es Antioquia"
   ]
  },
  {
   "cell_type": "markdown",
   "id": "083a59aa",
   "metadata": {},
   "source": [
    "![image](imagenes/holanda.png)\n"
   ]
  },
  {
   "cell_type": "raw",
   "id": "ee9491a6",
   "metadata": {},
   "source": [
    "Se ve una relacion negativa entre el PIB per capita y el número de victimas por desplazamiento forzado"
   ]
  },
  {
   "cell_type": "markdown",
   "id": "2231cab2",
   "metadata": {},
   "source": [
    "![image](imagenes/porOcurrencia.png)\n"
   ]
  },
  {
   "cell_type": "raw",
   "id": "cb7857a1",
   "metadata": {},
   "source": [
    "Tambien se ve una relacion negativa entre el PIB per cápita y el número de victimas por ataques bélicos, sin embargo está mucho más concentrada en valores bajos para victimas de ataques bélicos y en valores bajos de PIB per capita"
   ]
  },
  {
   "cell_type": "markdown",
   "id": "1299e873",
   "metadata": {},
   "source": [
    "![image](imagenes/dispersion.png)\n"
   ]
  },
  {
   "cell_type": "raw",
   "id": "78cdc5a9",
   "metadata": {},
   "source": [
    "Un hallazgo importante aquí es la relacion negativa que se puede ver en las variables `PER_OCU` (Victimas de desplazamiento forzado del punto de ocurrencia), `tot_vic_atentados_terroristas` (victimas por atentados conn explosivos/carros bomba/entre otros), `tot_vic_ataques_belicos` (victimas por confrontaciones entre grupos armados) y una leve correlacion negativa entre `tot_vic_masacres` (victimas totales por masacres)."
   ]
  },
  {
   "cell_type": "markdown",
   "id": "642bc647",
   "metadata": {},
   "source": [
    "![image](imagenes/correlacion.png)"
   ]
  }
 ],
 "metadata": {
  "kernelspec": {
   "display_name": "Python 3",
   "language": "python",
   "name": "python3"
  },
  "language_info": {
   "codemirror_mode": {
    "name": "ipython",
    "version": 3
   },
   "file_extension": ".py",
   "mimetype": "text/x-python",
   "name": "python",
   "nbconvert_exporter": "python",
   "pygments_lexer": "ipython3",
   "version": "3.8.8"
  }
 },
 "nbformat": 4,
 "nbformat_minor": 5
}
